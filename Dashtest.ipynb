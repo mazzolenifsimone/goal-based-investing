{
 "metadata": {
  "language_info": {
   "codemirror_mode": {
    "name": "ipython",
    "version": 3
   },
   "file_extension": ".py",
   "mimetype": "text/x-python",
   "name": "python",
   "nbconvert_exporter": "python",
   "pygments_lexer": "ipython3",
   "version": "3.9.4"
  },
  "orig_nbformat": 2,
  "kernelspec": {
   "name": "python3",
   "display_name": "Python 3.9.4  ('env': venv)"
  },
  "metadata": {
   "interpreter": {
    "hash": "8734dfda554ab3a22f56c5430f040fb0fba8ff53848604546cf9b82b44b2eac7"
   }
  },
  "interpreter": {
   "hash": "8734dfda554ab3a22f56c5430f040fb0fba8ff53848604546cf9b82b44b2eac7"
  }
 },
 "nbformat": 4,
 "nbformat_minor": 2,
 "cells": [
  {
   "source": [
    "# NYC Flights Database\n"
   ],
   "cell_type": "markdown",
   "metadata": {}
  },
  {
   "cell_type": "code",
   "execution_count": 2,
   "metadata": {},
   "outputs": [],
   "source": [
    "import datetime\n",
    "import numpy as np\n",
    "import pandas as pd\n",
    "\n",
    "import plotly.graph_objects as go\n",
    "from ipywidgets import widgets"
   ]
  },
  {
   "source": [
    "We'll be making an application to take a look at delays from all flights out of NYC in the year 2013.\n",
    "\n"
   ],
   "cell_type": "markdown",
   "metadata": {}
  },
  {
   "cell_type": "code",
   "execution_count": 3,
   "metadata": {},
   "outputs": [],
   "source": [
    "df = pd.read_csv(\n",
    "    'https://raw.githubusercontent.com/yankev/testing/master/datasets/nycflights.csv')\n",
    "df = df.drop(df.columns[[0]], axis=1)"
   ]
  },
  {
   "cell_type": "code",
   "execution_count": 4,
   "metadata": {},
   "outputs": [
    {
     "output_type": "execute_result",
     "data": {
      "text/plain": [
       "        year  month  day  dep_time  dep_delay  arr_time  arr_delay carrier  \\\n",
       "212021  2013      5   21     604.0        4.0     756.0        0.0      DL   \n",
       "75708   2013     11   22     952.0       -3.0    1234.0        4.0      MQ   \n",
       "71180   2013     11   17    1705.0        5.0    2030.0       45.0      AA   \n",
       "\n",
       "       tailnum  flight origin dest  air_time  distance  hour  minute  \n",
       "212021  N315NB     731    LGA  DTW      81.0       502   6.0     4.0  \n",
       "75708   N0EGMQ    3644    LGA  ATL     121.0       762   9.0    52.0  \n",
       "71180   N5CKAA      45    JFK  LAS     342.0      2248  17.0     5.0  "
      ],
      "text/html": "<div>\n<style scoped>\n    .dataframe tbody tr th:only-of-type {\n        vertical-align: middle;\n    }\n\n    .dataframe tbody tr th {\n        vertical-align: top;\n    }\n\n    .dataframe thead th {\n        text-align: right;\n    }\n</style>\n<table border=\"1\" class=\"dataframe\">\n  <thead>\n    <tr style=\"text-align: right;\">\n      <th></th>\n      <th>year</th>\n      <th>month</th>\n      <th>day</th>\n      <th>dep_time</th>\n      <th>dep_delay</th>\n      <th>arr_time</th>\n      <th>arr_delay</th>\n      <th>carrier</th>\n      <th>tailnum</th>\n      <th>flight</th>\n      <th>origin</th>\n      <th>dest</th>\n      <th>air_time</th>\n      <th>distance</th>\n      <th>hour</th>\n      <th>minute</th>\n    </tr>\n  </thead>\n  <tbody>\n    <tr>\n      <th>212021</th>\n      <td>2013</td>\n      <td>5</td>\n      <td>21</td>\n      <td>604.0</td>\n      <td>4.0</td>\n      <td>756.0</td>\n      <td>0.0</td>\n      <td>DL</td>\n      <td>N315NB</td>\n      <td>731</td>\n      <td>LGA</td>\n      <td>DTW</td>\n      <td>81.0</td>\n      <td>502</td>\n      <td>6.0</td>\n      <td>4.0</td>\n    </tr>\n    <tr>\n      <th>75708</th>\n      <td>2013</td>\n      <td>11</td>\n      <td>22</td>\n      <td>952.0</td>\n      <td>-3.0</td>\n      <td>1234.0</td>\n      <td>4.0</td>\n      <td>MQ</td>\n      <td>N0EGMQ</td>\n      <td>3644</td>\n      <td>LGA</td>\n      <td>ATL</td>\n      <td>121.0</td>\n      <td>762</td>\n      <td>9.0</td>\n      <td>52.0</td>\n    </tr>\n    <tr>\n      <th>71180</th>\n      <td>2013</td>\n      <td>11</td>\n      <td>17</td>\n      <td>1705.0</td>\n      <td>5.0</td>\n      <td>2030.0</td>\n      <td>45.0</td>\n      <td>AA</td>\n      <td>N5CKAA</td>\n      <td>45</td>\n      <td>JFK</td>\n      <td>LAS</td>\n      <td>342.0</td>\n      <td>2248</td>\n      <td>17.0</td>\n      <td>5.0</td>\n    </tr>\n  </tbody>\n</table>\n</div>"
     },
     "metadata": {},
     "execution_count": 4
    }
   ],
   "source": [
    "df.sample(3)"
   ]
  },
  {
   "source": [
    "Let's get the set of all the airlines, so that we can type the right things into the search box later."
   ],
   "cell_type": "markdown",
   "metadata": {}
  },
  {
   "cell_type": "code",
   "execution_count": 5,
   "metadata": {},
   "outputs": [
    {
     "output_type": "execute_result",
     "data": {
      "text/plain": [
       "array(['UA', 'AA', 'B6', 'DL', 'EV', 'MQ', 'US', 'WN', 'VX', 'FL', 'AS',\n",
       "       '9E', 'F9', 'HA', 'YV', 'OO'], dtype=object)"
      ]
     },
     "metadata": {},
     "execution_count": 5
    }
   ],
   "source": [
    "df['carrier'].unique()"
   ]
  },
  {
   "source": [
    "Let's assign the widgets that we're going to be using in our app. In general all these widgets will be used to filter the data set, and thus what we visualize."
   ],
   "cell_type": "markdown",
   "metadata": {}
  },
  {
   "cell_type": "code",
   "execution_count": 21,
   "metadata": {},
   "outputs": [],
   "source": [
    "month = widgets.IntSlider(\n",
    "    value=1.0,\n",
    "    min=1.0,\n",
    "    max=12.0,\n",
    "    step=1.0,\n",
    "    description='Month:',\n",
    "    continuous_update=False\n",
    ")\n",
    "\n",
    "use_date = widgets.Checkbox(\n",
    "    description='Date: ',\n",
    "    value=True,\n",
    ")\n",
    "\n",
    "textbox = widgets.Dropdown(\n",
    "    description='Airline:   ',\n",
    "    value='DL',\n",
    "    options=df['carrier'].unique().tolist()\n",
    ")\n",
    "\n",
    "origin = widgets.Dropdown(\n",
    "    options=list(df['origin'].unique()),\n",
    "    value='LGA',\n",
    "    description='Origin Airport:',\n",
    ")\n",
    "\n",
    "update_button = widgets.Button(\n",
    "    description = 'update'\n",
    ")\n",
    "\n",
    "# Assign an empty figure widget with two traces\n",
    "trace1 = go.Histogram(x=df['arr_delay'], opacity=0.75, name='Arrival Delays')\n",
    "trace2 = go.Histogram(x=df['dep_delay'], opacity=0.75, name='Departure Delays')\n",
    "g = go.FigureWidget(data=[trace1, trace2],\n",
    "                    layout=go.Layout(\n",
    "                        title=dict(\n",
    "                            text='NYC FlightDatabase'\n",
    "                        ),\n",
    "                        barmode='overlay'\n",
    "                    ))"
   ]
  },
  {
   "source": [
    "Let now write a function that will handle the input from the widgets, and alter the state of the graph."
   ],
   "cell_type": "markdown",
   "metadata": {}
  },
  {
   "cell_type": "code",
   "execution_count": 24,
   "metadata": {},
   "outputs": [],
   "source": [
    "def validate():\n",
    "    if origin.value in df['origin'].unique() and textbox.value in df['carrier'].unique():\n",
    "        return True\n",
    "    else:\n",
    "        return False\n",
    "\n",
    "\n",
    "def response(change):\n",
    "    if validate():\n",
    "        if use_date.value:\n",
    "            filter_list = [i and j and k for i, j, k in\n",
    "                           zip(df['month'] == month.value, df['carrier'] == textbox.value,\n",
    "                               df['origin'] == origin.value)]\n",
    "            temp_df = df[filter_list]\n",
    "\n",
    "        else:\n",
    "            filter_list = [i and j for i, j in\n",
    "                           zip(df['carrier'] == 'DL', df['origin'] == origin.value)]\n",
    "            temp_df = df[filter_list]\n",
    "        x1 = temp_df['arr_delay']\n",
    "        x2 = temp_df['dep_delay']\n",
    "        with g.batch_update():\n",
    "            g.data[0].x = x1\n",
    "            g.data[1].x = x2\n",
    "            g.layout.barmode = 'overlay'\n",
    "            g.layout.xaxis.title = 'Delay in Minutes'\n",
    "            g.layout.yaxis.title = 'Number of Delays'\n",
    "\n",
    "\n",
    "#origin.observe(response, names=\"value\")\n",
    "#textbox.observe(response, names=\"value\")\n",
    "#month.observe(response, names=\"value\")\n",
    "#use_date.observe(response, names=\"value\")\n",
    "\n",
    "update_button.on_click(response)"
   ]
  },
  {
   "source": [
    "Time to try the app out!!"
   ],
   "cell_type": "markdown",
   "metadata": {}
  },
  {
   "cell_type": "code",
   "execution_count": 25,
   "metadata": {},
   "outputs": [
    {
     "output_type": "display_data",
     "data": {
      "text/plain": "VBox(children=(HBox(children=(Checkbox(value=True, description='Date: '), IntSlider(value=1, continuous_update…",
      "application/vnd.jupyter.widget-view+json": {
       "version_major": 2,
       "version_minor": 0,
       "model_id": "8c56bf5c6d5c4655bad4638a786551a1"
      }
     },
     "metadata": {}
    }
   ],
   "source": [
    "container = widgets.HBox(children=[use_date, month])\n",
    "container2 = widgets.HBox([origin, textbox, update_button])\n",
    "widgets.VBox([container,\n",
    "              container2,\n",
    "              g])"
   ]
  },
  {
   "cell_type": "code",
   "execution_count": null,
   "metadata": {},
   "outputs": [],
   "source": []
  }
 ]
}