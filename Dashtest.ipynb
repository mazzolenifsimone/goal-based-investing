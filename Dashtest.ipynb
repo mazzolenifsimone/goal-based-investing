{
 "metadata": {
  "language_info": {
   "codemirror_mode": {
    "name": "ipython",
    "version": 3
   },
   "file_extension": ".py",
   "mimetype": "text/x-python",
   "name": "python",
   "nbconvert_exporter": "python",
   "pygments_lexer": "ipython3",
   "version": "3.9.4"
  },
  "orig_nbformat": 2,
  "kernelspec": {
   "name": "pythonjvsc74a57bd08734dfda554ab3a22f56c5430f040fb0fba8ff53848604546cf9b82b44b2eac7",
   "display_name": "Python 3.9.4  ('env': venv)"
  },
  "metadata": {
   "interpreter": {
    "hash": "8734dfda554ab3a22f56c5430f040fb0fba8ff53848604546cf9b82b44b2eac7"
   }
  }
 },
 "nbformat": 4,
 "nbformat_minor": 2,
 "cells": [
  {
   "cell_type": "code",
   "execution_count": 1,
   "metadata": {},
   "outputs": [],
   "source": [
    "import plotly"
   ]
  }
 ]
}